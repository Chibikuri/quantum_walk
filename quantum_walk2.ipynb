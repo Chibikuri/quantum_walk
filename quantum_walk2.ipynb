###implementing the 16 node graph on qiskit 
import numpy as np
from qiskit import QuantumCircuit, ClassicalRegister, QuantumRegister
from qiskit import execute
from qiskit.tools.visualization import plot_histogram,plot_state_city

from qiskit import BasicAer, execute, LegacySimulators

from qiskit import IBMQ

n = 4 

